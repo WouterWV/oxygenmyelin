{
 "cells": [
  {
   "cell_type": "code",
   "execution_count": 1,
   "id": "d70cde7d",
   "metadata": {},
   "outputs": [],
   "source": [
    "import numpy as np\n",
    "import matplotlib.pyplot as plt\n",
    "from outreading import read_F_D_edges, read_many_profiles\n",
    "from utils import init_rate_matrix, construct_rate_matrix_from_F_D\n",
    "from analyzeprofiles import extend_profile_water, extend_profile\n",
    "from mpl_toolkits.axes_grid1.inset_locator import inset_axes\n",
    "from matplotlib import cm\n",
    "from cauer import *\n",
    "from scipy.integrate import quad, quadrature\n",
    "import scipy\n",
    "import matplotlib as mpl\n",
    "%matplotlib qt\n",
    "\n",
    "mpl.rcParams['axes.labelsize'] = 20\n",
    "mpl.rcParams['figure.titlesize'] = 15\n",
    "mpl.rcParams['xtick.labelsize'] = 20\n",
    "mpl.rcParams['ytick.labelsize'] = 20\n",
    "\n",
    "\n",
    "def get_pbc_rate_matrix(F,D):\n",
    "    n = len(F)\n",
    "    rate = init_rate_matrix(n, F, D, pbc=True)\n",
    "    return rate\n",
    "\n",
    "def get_rate_matrix(F,D):\n",
    "    n = len(F)\n",
    "    rate = init_rate_matrix(n,F,D,pbc=True)\n",
    "    # undo PBC\n",
    "    rate[0,-1] = 0.\n",
    "    rate[-1,0] = 0.\n",
    "    # Constant A B BCs\n",
    "    rate[0,0] = rate[0,1] = 0\n",
    "    rate[-1,-1] = rate[-1,-2] = 0\n",
    "\n",
    "    return rate\n",
    "\n",
    "def get_Prate_matrix(F,D,P):\n",
    "    n = len(F)\n",
    "    rate = init_rate_matrix(n,F,D,pbc=True)\n",
    "    rate[0,-1] = 0.\n",
    "    rate[-1,0] = 0.\n",
    "    # Constant A B BCs\n",
    "    rate[0,0] = rate[1,0] = 0\n",
    "    rate[-1,-1] = rate[-2,-1] = 0\n",
    "    return rate\n",
    "\n",
    "def propagate_with_R(time,R):\n",
    "    prop = scipy.linalg.expm(time*R)\n",
    "    init = np.zeros(len(prop))\n",
    "    init[0] = 1.\n",
    "    profile = np.dot(prop,init)\n",
    "    return profile\n",
    "\n",
    "def diagonalize_rate_matrix(R):\n",
    "    eigval, eigvec = np.linalg.eig(R)\n",
    "    # Sort from low to high, such that eigvec[:,-1] and eigvec[:,-2] are the lambda=0 eigvectors\n",
    "    idx_sort = np.flip(eigval.argsort()[::-1])\n",
    "    eigval = eigval[idx_sort]\n",
    "    eigvec = eigvec[:,idx_sort]\n",
    "    Diag = np.diag(eigval)\n",
    "    Q = eigvec # R = Q.D.Q^-1, and thus exp(Rt) = Q.exp(Dt).Q^-1\n",
    "    Qinv = np.linalg.inv(Q)\n",
    "    max_diff = np.max(np.abs(np.matmul(np.matmul(Q,Diag),np.linalg.inv(Q))-R))\n",
    "    print(\"||R - Q.D.Q^-1||_max = \"+str(max_diff))\n",
    "    return Diag,Q,Qinv\n",
    "\n",
    "def propagate_with_diagonal(time,Diag,Q,Qinv):\n",
    "    Diag_exp = np.zeros_like(Diag)\n",
    "    for i in range(len(Diag)):\n",
    "        Diag_exp[i,i] = np.exp(Diag[i,i]*time)\n",
    "    prop = np.matmul(np.matmul(Q,Diag_exp),Qinv)\n",
    "    init = np.zeros(len(prop))\n",
    "    init[0]=1.\n",
    "    profile = np.dot(prop,init)\n",
    "    return profile\n",
    "\n",
    "def get_eigenrates(R):\n",
    "    eigval, eigvec = np.linalg.eig(R)\n",
    "    # Sort from low to high, such that eigvec[:,-1] and eigvec[:,-2] are the lambda=0 eigvectors\n",
    "    idx_sort = np.flip(eigval.argsort()[::-1])\n",
    "    eigval = eigval[idx_sort]\n",
    "    eigvec = eigvec[:,idx_sort]\n",
    "    return eigval, eigvec"
   ]
  },
  {
   "cell_type": "code",
   "execution_count": 2,
   "id": "7fa65da1",
   "metadata": {},
   "outputs": [
    {
     "name": "stdout",
     "output_type": "stream",
     "text": [
      "(325.58738958637207, 385.42433560107196)\n"
     ]
    },
    {
     "name": "stderr",
     "output_type": "stream",
     "text": [
      "qt.qpa.plugin: Could not find the Qt platform plugin \"wayland\" in \"\"\n"
     ]
    }
   ],
   "source": [
    "# Cutting the membrane part out of F and D profiles #\n",
    "#####################################################\n",
    "\n",
    "fn = \"fit.popc.select.dat\"\n",
    "F,D,edges = read_F_D_edges(fn)\n",
    "Drad = D # Not used, but just such that it has same dimensions.\n",
    "\n",
    "nbins = len(F)\n",
    "zpbc = edges[-1] - edges[0]\n",
    "dz = (edges[-1]-edges[0])/(len(edges)-1.) #angstrom\n",
    "dt = 1.\n",
    "\n",
    "# BILAYER = bin [12,...,87] = 76 bins\n",
    "# add 1 bin resembling water to the left and the right\n",
    "# so 1 bin water + bilayer + 1 bin water = [11,...,88] = 78 bins\n",
    "# And that is what we select, and define as 'short':\n",
    "st = 11\n",
    "end = 88\n",
    "\n",
    "v_short = F[st:end+1]\n",
    "d_short = D[st:end+1]\n",
    "drad_short = Drad[st:end+1]\n",
    "edges_short = edges[st:end+2] # has an extra element\n",
    "z_array = np.array([i*dz for i in range(len(d_short))])\n",
    "\n",
    "v_short[0] = F[0]\n",
    "v_short[-1] = F[0]\n",
    "d_short[0] = D[0]\n",
    "d_short[-1] = D[0]\n",
    "\n",
    "\n",
    "def get_properties(F, D, F_ref, D_ref, dz=1.):\n",
    "    C = np.sum(np.exp(-(F-F_ref)))*dz \n",
    "    R = np.sum(1./(D*np.exp(-(F-F_ref))))*dz\n",
    "    return C, R\n",
    "\n",
    "print(get_properties(v_short[1:-1], d_short[1:-1], v_short[0], d_short[0], dz=dz))\n"
   ]
  },
  {
   "cell_type": "code",
   "execution_count": 3,
   "id": "fe3b8c04",
   "metadata": {},
   "outputs": [
    {
     "name": "stdout",
     "output_type": "stream",
     "text": [
      "||R - Q.D.Q^-1||_max = 4.02716597049102e-14\n",
      "S_inf = 163.231611711113\n"
     ]
    }
   ],
   "source": [
    "R = get_rate_matrix(v_short,np.log(d_short/dz**2))\n",
    "Diag,Q,Qinv = diagonalize_rate_matrix(R)\n",
    "evals, evecs = get_eigenrates(R)\n",
    "S_inf = np.sum(evecs[1:-1,-2]/evecs[0,-2])*dz\n",
    "print(\"S_inf = \"+str(S_inf))\n",
    "inf_prof = evecs[:,-2]/evecs[0,-2]\n",
    "profiles = []\n",
    "times = []\n",
    "\n",
    "for time in np.arange(0.1,1,0.001):\n",
    "   times.append(time)\n",
    "for time in np.arange(1,10,0.01):\n",
    "   times.append(time)\n",
    "for time in np.arange(10,100,0.1):\n",
    "   times.append(time)\n",
    "for time in np.arange(100,1000,1):\n",
    "   times.append(time)\n",
    "for time in np.arange(1000,10000,10):\n",
    "   times.append(time)\n",
    "for time in np.arange(10000,100000,100):\n",
    "   times.append(time)\n",
    "for time in np.arange(100000,1000000,100):  # for S(t) plot\n",
    "# for time in np.arange(100000,1000000,1000):  # for c(t) evolution plot\n",
    "   times.append(time)\n",
    "times.append(1000000)\n",
    "for i,time in enumerate(times):\n",
    "   #profile = propagate_with_diagonal(time,Diag,Q,Qinv)\n",
    "   profile = propagate_with_R(time,R)\n",
    "   profiles.append(profile)\n",
    "   if False:\n",
    "       if (i+1)%int(len(times)/10)==0:\n",
    "           print(\"did 10%\")\n",
    "profiles = np.array(profiles)\n",
    "times = np.array(times)\n",
    "times_ns = times/1000"
   ]
  },
  {
   "cell_type": "code",
   "execution_count": 4,
   "id": "b37c210e",
   "metadata": {},
   "outputs": [
    {
     "data": {
      "text/plain": [
       "1.0"
      ]
     },
     "execution_count": 4,
     "metadata": {},
     "output_type": "execute_result"
    }
   ],
   "source": [
    "times[-1]*10**-6"
   ]
  },
  {
   "cell_type": "code",
   "execution_count": 9,
   "id": "84fbdf27",
   "metadata": {},
   "outputs": [
    {
     "name": "stderr",
     "output_type": "stream",
     "text": [
      "/home/wouter/anaconda/envs/openmm/lib/python3.7/site-packages/ipykernel_launcher.py:42: UserWarning: FixedFormatter should only be used together with FixedLocator\n",
      "/home/wouter/anaconda/envs/openmm/lib/python3.7/site-packages/ipykernel_launcher.py:47: UserWarning: This figure includes Axes that are not compatible with tight_layout, so results might be incorrect.\n"
     ]
    }
   ],
   "source": [
    "# Plotting the propagation of concentration in the membrane\n",
    "# This cell is solely done for that.\n",
    "mpl.rcParams['axes.labelsize'] = 20\n",
    "mpl.rcParams['figure.titlesize'] = 15\n",
    "mpl.rcParams['xtick.labelsize'] = 20\n",
    "mpl.rcParams['ytick.labelsize'] = 20\n",
    "\n",
    "colmap = cm.get_cmap(\"tab20c_r\")\n",
    "\n",
    "t0 = times[0]\n",
    "t1 = times[-1]\n",
    "\n",
    "L = np.log(t1)-np.log(t0)\n",
    "t_shift = -1. * np.log(t0)\n",
    "\n",
    "colors = (np.log(times)+t_shift)/L\n",
    "#print(\"colors range from: \",colors[0], \" to \", colors[-1])\n",
    "#fig,ax =plt.subplots()\n",
    "#ax.plot(colors)\n",
    "\n",
    "fig,ax=plt.subplots()\n",
    "for i,prof in enumerate(profiles[::-1]):\n",
    "    if i == 0:\n",
    "        pass\n",
    "    if i%50==0:\n",
    "        \n",
    "    #ax.plot(z_array,prof,color=colmap(colors[i]))\n",
    "    # color area under the curve\n",
    "        ax.fill_between(z_array,0,prof,color=colmap(colors[::-1][i]),alpha=1)\n",
    "ax.plot(z_array,inf_prof,color=\"k\")\n",
    "ax.set_xlabel(r\"$z$ [$\\mathrm{\\AA}$]\")\n",
    "ax.set_ylabel(r\"$c/c_{L}$\", fontsize=25)\n",
    "#ax.set_title(r\"Propagation of oxygen concentration in POPC membrane\")\n",
    "ax.set_ylim(0,10.5)\n",
    "ax.set_xlim(0,77*dz)\n",
    "ax.axhline(1, color=\"k\", linestyle=\"--\")\n",
    "#bbox_to_anchor=(xpos,ypos,xscale,yscale)\n",
    "inaxes = inset_axes(ax,width=\"5%\",height=\"70%\",loc=1,bbox_to_anchor=(-0.001,-0.15,1,1),bbox_transform=ax.transAxes,borderpad=0)\n",
    "inaxes.imshow(np.vstack((colors,colors)).T, cmap=colmap, aspect = 0.004)\n",
    "tenfold_ids = [900*i for i in range(int(len(times)/900+1))]\n",
    "ticktimes = [0.1*10**i for i in range(len(tenfold_ids))]\n",
    "inaxes.set_yticklabels([\"{:.0e}\".format(tick/1000) for tick in ticktimes], fontsize=15)\n",
    "inaxes.set_yticks(tenfold_ids)\n",
    "inaxes.set_xticks([])\n",
    "inaxes.set_title(r\"time $t$ [ns]\",fontsize=20, loc=\"right\", pad=15)\n",
    "ax.text(-0.25, 1.05, \"B\", transform=ax.transAxes, size=25, weight='bold')\n",
    "fig.tight_layout()\n",
    "fig.show()\n",
    "fig.savefig(\"Propagation_one_POPC.pdf\")\n"
   ]
  },
  {
   "cell_type": "code",
   "execution_count": 4,
   "id": "f09289ab",
   "metadata": {},
   "outputs": [
    {
     "name": "stdout",
     "output_type": "stream",
     "text": [
      "tau = 29811.784742690466\n"
     ]
    }
   ],
   "source": [
    "tau = evals[-3]**(-1)*-1\n",
    "print(\"tau = \"+str(tau))\n",
    "# approximation of storage: S = S^inf * (1-exp(-t/tau))\n",
    "S_approx = S_inf*(1-np.exp(-times/tau))\n",
    "log_storages_approx = -np.log((S_inf - S_approx)/S_inf)"
   ]
  },
  {
   "cell_type": "code",
   "execution_count": 6,
   "id": "092b57bf",
   "metadata": {},
   "outputs": [
    {
     "name": "stderr",
     "output_type": "stream",
     "text": [
      "/home/wouter/anaconda/envs/openmm/lib/python3.7/site-packages/ipykernel_launcher.py:7: RuntimeWarning: invalid value encountered in log\n",
      "  import sys\n"
     ]
    }
   ],
   "source": [
    "# Plotting the storage in the membrane, as a function of time\n",
    "times_ns = times/1000\n",
    "storages = []\n",
    "for prof in profiles:\n",
    "    storages.append(np.sum(prof[1:-1]*dz)) #do NOT include first and last bin, these are water\n",
    "storages=np.array(storages)\n",
    "log_storages = -np.log((S_inf - storages)/S_inf)"
   ]
  },
  {
   "cell_type": "code",
   "execution_count": 8,
   "id": "b60129d8",
   "metadata": {
    "scrolled": true
   },
   "outputs": [],
   "source": [
    "S_inf = 135.2402947125283\n",
    "\n",
    "fig,ax=plt.subplots()\n",
    "ax.plot(times_ns,storages/storages[-1]*S_inf,marker=\".\",color=\"red\",label=r\"$S(t)$\", lw=1)\n",
    "ax.plot(times_ns,S_approx/S_approx[-1]*S_inf,color=\"blue\", ls=\":\", label=r\"$S'(t)$\", lw=3)\n",
    "ax.axhline(S_inf, c=\"k\", lw=2, ls=\"-\", label=r\"$S^\\mathrm{ss}$\")\n",
    "ax.axhline(0.01*S_inf, c=\"k\", label=r\"[1, 10, 90, 99]% $S^\\mathrm{ss}$\",\n",
    "           lw=1, ls=\"-.\")\n",
    "ax.axhline(0.1*S_inf,c=\"k\",lw=2,ls=\"-.\")\n",
    "ax.axhline(0.9*S_inf,c=\"k\",lw=2,ls=\"-.\")\n",
    "ax.axhline(0.99*S_inf,c=\"k\",lw=2,ls=\"-.\")\n",
    "ax.plot(times_ns,storages/storages[-1]*S_inf,color=\"red\",lw=2)\n",
    "ax.plot(times_ns,S_approx/S_approx[-1]*S_inf,color=\"blue\", ls=\"--\", lw=2)\n",
    "\n",
    "ax.tick_params(axis='both', which='major', labelsize=20)\n",
    "ax.tick_params(axis='both', which='major', length=6)\n",
    "\n",
    "ax.set_xlabel(r\"$t$ [ns]\")\n",
    "ax.set_ylabel(r\"$S(t)$ [#O$_2$/$\\mu$m$^2$]\")\n",
    "#ax.set_title(\"Charging POPC membrane with oxygen\")\n",
    "ax.set_xlim(0,200)\n",
    "ax.set_ylim(0,S_inf*1.1)\n",
    "# add letter to panel \n",
    "ax.text(-0.25, 1.05, \"C\", transform=ax.transAxes, size=25, weight='bold')\n",
    "\n",
    "ax.legend(loc=\"center right\", fontsize=18)\n",
    "fig.tight_layout()\n",
    "#fig.savefig(\"charging_one_POPC_vs_time.png\", dpi=300)\n",
    "fig.savefig(\"charging_one_POPC_vs_time.pdf\")"
   ]
  },
  {
   "cell_type": "code",
   "execution_count": 7,
   "id": "7cce3482",
   "metadata": {},
   "outputs": [],
   "source": [
    "# Plotting the storage in the membrane, as a function of time\n",
    "    \n",
    "fig,ax=plt.subplots()\n",
    "ax.plot(times_ns, 1-storages/S_inf, marker=\".\", color=\"red\",label=r\"$1-S(t)/S^{\\mathrm{ss}}$\", lw=1)\n",
    "ax.plot(times_ns, 1-S_approx/S_inf, ls=\":\", color=\"blue\",label=r\"$1-S'(t)/S^{\\mathrm{ss}}$\", lw=3)\n",
    "#ax.axhline(-np.log(0.99),c=\"k\",label=r\"[1, 10, 90, 99]% $S^\\mathrm{SS}$\",lw=2,ls=\"-.\")\n",
    "# ax.axhline(-np.log(0.9),c=\"k\",lw=2,ls=\"-.\")\n",
    "# ax.axhline(-np.log(0.1),c=\"k\",lw=2,ls=\"-.\")\n",
    "# ax.axhline(-np.log(0.01),c=\"k\",lw=2,ls=\"-.\")\n",
    "ax.set_xlabel(r\"$t$ [ns]\")\n",
    "ax.set_ylabel(r\"$1-S(t)/S^{\\mathrm{ss}}$\"),\n",
    "#ax.set_title(\"Charging POPC membrane with oxygen\")\n",
    "ax.set_xlim(0,200)\n",
    "ax.set_ylim(1e-3,1)\n",
    "# larger tickmarkings on x and y axes \n",
    "ax.tick_params(axis='both', which='major', labelsize=20)\n",
    "# also the actual markings \"-\" \n",
    "ax.tick_params(axis='both', which='major', length=6)\n",
    "ax.set_yscale(\"log\")\n",
    "ax.legend(loc=\"upper right\", fontsize=18)\n",
    "# add letter to panel\n",
    "ax.text(-0.25, 1.05, \"D\", transform=ax.transAxes, size=25, weight='bold')\n",
    "fig.tight_layout()\n",
    "fig.savefig(\"charging_one_POPC_vs_time_log.pdf\")"
   ]
  },
  {
   "cell_type": "code",
   "execution_count": 19,
   "id": "f6c94f03",
   "metadata": {},
   "outputs": [
    {
     "data": {
      "text/plain": [
       "163.231611711113"
      ]
     },
     "execution_count": 19,
     "metadata": {},
     "output_type": "execute_result"
    }
   ],
   "source": [
    "S_inf/0.45"
   ]
  },
  {
   "cell_type": "code",
   "execution_count": 14,
   "id": "0ca0bb1e",
   "metadata": {},
   "outputs": [
    {
     "data": {
      "text/plain": [
       "0.67926"
      ]
     },
     "execution_count": 14,
     "metadata": {},
     "output_type": "execute_result"
    }
   ],
   "source": [
    "dz"
   ]
  },
  {
   "cell_type": "code",
   "execution_count": 15,
   "id": "0e1608f0",
   "metadata": {},
   "outputs": [
    {
     "data": {
      "text/plain": [
       "67.926"
      ]
     },
     "execution_count": 15,
     "metadata": {},
     "output_type": "execute_result"
    }
   ],
   "source": [
    "dz * 100"
   ]
  },
  {
   "cell_type": "code",
   "execution_count": 17,
   "id": "91a6abd7",
   "metadata": {},
   "outputs": [
    {
     "data": {
      "text/plain": [
       "138.22371875000002"
      ]
     },
     "execution_count": 17,
     "metadata": {},
     "output_type": "execute_result"
    }
   ],
   "source": [
    "73.45e-22 / (32) * 6.022e23"
   ]
  },
  {
   "cell_type": "code",
   "execution_count": 20,
   "id": "8e59ebfc",
   "metadata": {},
   "outputs": [
    {
     "name": "stdout",
     "output_type": "stream",
     "text": [
      "Difference of S/A/c* between pure water and 10 layers: 163.2316117 Angstrom\n",
      "c_prime: 0.44025157232704404 mg/L\n",
      "amount of oxygen moleucles: 135.2402947125283\n",
      "c_prime: 0.44025157232704404 mg/L\n",
      "amount of oxygen moleucles: 1744.7298532280993\n"
     ]
    }
   ],
   "source": [
    "S_10_10 = 2105.84475972119\n",
    "S_1_10 = 578.6740036579552 #all in angstrom\n",
    "S_0_10 = 163.2316117\n",
    "\n",
    "#Due to linearity, we can subtract S_0_10 from S_10_10 to get the difference in storage:\n",
    "S_diff = S_0_10\n",
    "print(\"Difference of S/A/c* between pure water and 10 layers: \"+str(S_diff)+\" Angstrom\")\n",
    "\n",
    "c_air = 7. #mg/L @ 310K (37°C) and @ 159 mmHg pp_O2 (of the 760 mmHG pp_air)\n",
    "\n",
    "#On the left we have 10 to 30 mmHg, and on the right we have 1-3 mmHG\n",
    "#Let's take a difference of 10 mmHg\n",
    "\n",
    "#Thus, we have 6.716 mg/L * 10 mmHg / 159 mmHg as c* \n",
    "c_prime = c_air * 10 / 159 #mg/L\n",
    "print(\"c_prime: \"+str(c_prime)+\" mg/L\")\n",
    "\n",
    "molarmass = 32 #g/mol\n",
    "\n",
    "c_prime_mol = c_prime * 10**(-3) * 10**(3) / 32 # mol/m^3\n",
    "\n",
    "S_div_by_A = c_prime_mol * S_diff * 10**(-10) # mol/m^2\n",
    "\n",
    "avog = 6.02214076 * 10**23 #entities/mole\n",
    "\n",
    "A_SI = S_div_by_A * avog #entities/m^2\n",
    "\n",
    "A = A_SI * 10**(-12)\n",
    "\n",
    "print(\"amount of oxygen moleucles: \"+str(A))\n",
    "\n",
    "\n",
    "S_10_10 = 2105.84475972119\n",
    "S_1_10 = 578.6740036579552 #all in angstrom\n",
    "S_0_10 = 265.2\n",
    "\n",
    "S_used = S_10_10\n",
    "\n",
    "c_air = 7. #mg/L @ 310K (37°C) and @ 159 mmHg pp_O2 (of the 760 mmHG pp_air)\n",
    "\n",
    "#On the left we have 10 to 30 mmHg, and on the right we have 1-3 mmHG\n",
    "#Let's take a difference of 10 mmHg\n",
    "\n",
    "#Thus, we have 6.716 mg/L * 10 mmHg / 159 mmHg as c*\n",
    "c_prime = c_air * 10 / 159 #mg/L\n",
    "print(\"c_prime: \"+str(c_prime)+\" mg/L\")\n",
    "\n",
    "molarmass = 32 #g/mol\n",
    "\n",
    "c_prime_mol = c_prime * 10**(-3) * 10**(3) / 32 # mol/m^3\n",
    "\n",
    "S_div_by_A = c_prime_mol * S_used * 10**(-10) # mol/m^2\n",
    "\n",
    "avog = 6.02214076 * 10**23 #entities/mole\n",
    "\n",
    "A_SI = S_div_by_A * avog #entities/m^2\n",
    "\n",
    "A = A_SI * 10**(-12)\n",
    "\n",
    "print(\"amount of oxygen moleucles: \"+str(A))"
   ]
  },
  {
   "cell_type": "code",
   "execution_count": null,
   "id": "2e21d8fc",
   "metadata": {},
   "outputs": [],
   "source": []
  }
 ],
 "metadata": {
  "kernelspec": {
   "display_name": "openmm",
   "language": "python",
   "name": "python3"
  },
  "language_info": {
   "codemirror_mode": {
    "name": "ipython",
    "version": 3
   },
   "file_extension": ".py",
   "mimetype": "text/x-python",
   "name": "python",
   "nbconvert_exporter": "python",
   "pygments_lexer": "ipython3",
   "version": "3.7.8"
  },
  "vscode": {
   "interpreter": {
    "hash": "dc4aff6633a789961b87bdad1c4b450d033ccbf404e27f6971b4f692b946d53a"
   }
  }
 },
 "nbformat": 4,
 "nbformat_minor": 5
}
