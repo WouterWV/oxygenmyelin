{
 "cells": [
  {
   "cell_type": "code",
   "execution_count": 1,
   "metadata": {},
   "outputs": [],
   "source": [
    "import numpy as np\n",
    "import matplotlib.pyplot as plt\n",
    "from outreading import read_F_D_edges, read_many_profiles\n",
    "from utils import init_rate_matrix\n",
    "from analyzeprofiles import extend_profile_water, extend_profile, extend_profile_water_LR\n",
    "from mpl_toolkits.axes_grid1.inset_locator import inset_axes\n",
    "from matplotlib import cm\n",
    "from cauer import *\n",
    "from scipy.integrate import quad, quadrature\n",
    "%matplotlib qt\n",
    "from matplotlib import cm\n",
    "from mpl_toolkits.axes_grid1.inset_locator import inset_axes\n",
    "import matplotlib as mpl\n",
    "\n",
    "mpl.rcParams['axes.labelsize'] = 20\n",
    "mpl.rcParams['figure.titlesize'] = 15\n",
    "mpl.rcParams['xtick.labelsize'] = 20\n",
    "mpl.rcParams['ytick.labelsize'] = 20\n",
    "\n",
    "from mfpt import *\n",
    "\n",
    "\n",
    "def get_pbc_rate_matrix(F,D):\n",
    "    n = len(F)\n",
    "    rate = init_rate_matrix(n, F, D, pbc=True)\n",
    "    return rate\n",
    "\n",
    "def get_rate_matrix(F,D):\n",
    "    n = len(F)\n",
    "    rate = init_rate_matrix(n,F,D,pbc=True)\n",
    "    # undo PBC\n",
    "    rate[0,-1] = 0.\n",
    "    rate[-1,0] = 0.\n",
    "    # Constant A B BCs\n",
    "    rate[0,0] = rate[0,1] = 0\n",
    "    rate[-1,-1] = rate[-1,-2] = 0\n",
    "\n",
    "    return rate\n",
    "\n",
    "def propagate_with_R(time,R):\n",
    "    prop = scipy.linalg.expm(time*R)\n",
    "    init = np.zeros(len(prop))\n",
    "    init[0] = 1.\n",
    "    profile = np.dot(prop,init)\n",
    "    return profile\n",
    "\n",
    "def diagonalize_rate_matrix(R):\n",
    "    eigval, eigvec = np.linalg.eig(R)\n",
    "    # Sort from low to high, such that eigvec[:,-1] and eigvec[:,-2] are the lambda=0 eigvectors\n",
    "    idx_sort = np.flip(eigval.argsort()[::-1])\n",
    "    eigval = eigval[idx_sort]\n",
    "    eigvec = eigvec[:,idx_sort]\n",
    "    Diag = np.diag(eigval)\n",
    "    Q = eigvec # R = Q.D.Q^-1, and thus exp(Rt) = Q.exp(Dt).Q^-1\n",
    "    Qinv = np.linalg.inv(Q)\n",
    "    max_diff = np.max(np.abs(np.matmul(np.matmul(Q,Diag),np.linalg.inv(Q))-R))\n",
    "    print(\"||R - Q.D.Q^-1||_max = \"+str(max_diff))\n",
    "    return Diag,Q,Qinv\n",
    "\n",
    "def propagate_with_diagonal(time,Diag,Q,Qinv):\n",
    "    Diag_exp = np.zeros_like(Diag)\n",
    "    for i in range(len(Diag)):\n",
    "        Diag_exp[i,i] = np.exp(Diag[i,i]*time)\n",
    "    prop = np.matmul(np.matmul(Q,Diag_exp),Qinv)\n",
    "    init = np.zeros(len(prop))\n",
    "    init[0]=1.\n",
    "    profile = np.dot(prop,init)\n",
    "    return profile\n",
    "\n",
    "def get_eigenrates(R):\n",
    "    eigval, eigvec = np.linalg.eig(R)\n",
    "    # Sort from low to high, such that eigvec[:,-1] and eigvec[:,-2] are the lambda=0 eigvectors\n",
    "    idx_sort = np.flip(eigval.argsort()[::-1])\n",
    "    eigval = eigval[idx_sort]\n",
    "    eigvec = eigvec[:,idx_sort]\n",
    "    return eigval, eigvec\n",
    "\n",
    "def get_taus(D,F,dz=1.):\n",
    "    mid = int(len(D)/2)\n",
    "    left = int(len(D)/4)\n",
    "    right = len(D)-left\n",
    "    F_L = F[0]\n",
    "    F_R = F[-1]\n",
    "    R_L = np.sum(1./(D[1:mid]*np.exp(-(F[1:mid]-F_L))))*dz\n",
    "    R_R = np.sum(1./(D[mid:-1]*np.exp(-(F[mid:-1]-F_R))))*dz\n",
    "    R = np.sum(1./(D*np.exp(-(F-F_L))))*dz\n",
    "    R_Lmin = np.sum(1./(D[1:left]*np.exp(-(F[1:left]-F_L))))*dz\n",
    "    R_Rmin = np.sum(1./(D[right:-1]*np.exp(-(F[right:-1]-F_R))))*dz\n",
    "    C = np.sum(np.exp(-(F[1:-1]-F_L)))*dz\n",
    "    CL = np.sum(np.exp(-(F[1:-1]-F_L)))*dz\n",
    "    CR = np.sum(np.exp(-(F[1:-1]-F_R)))*dz\n",
    "    CmidR = np.sum(np.exp(-(F[left:right]-F_R)))*dz\n",
    "    CmidL = np.sum(np.exp(-(F[left:right]-F_L)))*dz\n",
    "    R_L_avg = np.sum([np.exp(-(F[i]-F_L))*np.sum(1./(D[1:i]*np.exp(-(F[1:i]-F_L))))*dz for i in range(1,mid)])/np.sum(np.exp(-(F[1:mid]-F_L)))\n",
    "    R_R_avg = np.sum([np.exp(-(F[i]-F_R))*np.sum(1./(D[i:-1]*np.exp(-(F[i:-1]-F_R))))*dz for i in range(mid,len(F)-1)])/np.sum(np.exp(-(F[mid:-1]-F_R)))\n",
    "\n",
    "    \n",
    "    tau_mid = C*R_L*R_R/(R_L+R_R)\n",
    "    tau_split = C*R_Lmin*R_Rmin/(R_Lmin+R_Rmin)\n",
    "    tau_RC = C*R/4\n",
    "    tau_new = (1/CL/R_L + 1/CR/R_R)**(-1)\n",
    "    tau_newsplit = (1/CL/R_Lmin + 1/CR/R_Rmin)**(-1)\n",
    "    tau_newest = (1/CL/R_L_avg + 1/CR/R_R_avg)**(-1)\n",
    "    \n",
    "    return [tau_mid,tau_split,tau_RC,tau_new,tau_newsplit,tau_newest]"
   ]
  },
  {
   "cell_type": "code",
   "execution_count": 2,
   "metadata": {},
   "outputs": [
    {
     "name": "stdout",
     "output_type": "stream",
     "text": [
      "(325.58738958637207, 385.42433560107196)\n"
     ]
    },
    {
     "name": "stderr",
     "output_type": "stream",
     "text": [
      "qt.qpa.plugin: Could not find the Qt platform plugin \"wayland\" in \"\"\n"
     ]
    }
   ],
   "source": [
    "# Cutting the membrane part out of F and D profiles #\n",
    "#####################################################\n",
    "\n",
    "fn = \"fit.popc.select.dat\"\n",
    "F,D,edges = read_F_D_edges(fn)\n",
    "Drad = D # Not used, but just such that it has same dimensions.\n",
    "\n",
    "nbins = len(F)\n",
    "zpbc = edges[-1] - edges[0]\n",
    "dz = (edges[-1]-edges[0])/(len(edges)-1.) #angstrom\n",
    "dt = 1.\n",
    "\n",
    "# BILAYER = bin [12,...,87] = 76 bins\n",
    "# add 1 bin resembling water to the left and the right\n",
    "# so 1 bin water + bilayer + 1 bin water = [11,...,88] = 78 bins\n",
    "# And that is what we select, and define as 'short':\n",
    "st = 11\n",
    "end = 88\n",
    "\n",
    "v_short = F[st:end+1]\n",
    "d_short = D[st:end+1]\n",
    "drad_short = Drad[st:end+1]\n",
    "edges_short = edges[st:end+2] # has an extra element\n",
    "z_array = np.array([i*dz for i in range(len(d_short))])\n",
    "\n",
    "# Select the correct water bins\n",
    "# Yes, this introduces a discontinuity in the F and D profiles,\n",
    "# but it's a more realistic water profile.\n",
    "v_short[0] = F[0]\n",
    "v_short[-1] = F[-1]\n",
    "d_short[0] = D[0]\n",
    "d_short[-1] = D[-1]\n",
    "# idx -1 and 0 have the same values, don't worry.\n",
    "\n",
    "\n",
    "def get_properties(F, D, F_ref, D_ref, dz=1.):\n",
    "    C = np.sum(np.exp(-(F-F_ref)))*dz \n",
    "    R = np.sum(1./(D*np.exp(-(F-F_ref))))*dz\n",
    "    return C, R\n",
    "\n",
    "print(get_properties(v_short[1:-1], d_short[1:-1], v_short[0], d_short[0], dz=dz))\n"
   ]
  },
  {
   "cell_type": "code",
   "execution_count": 3,
   "metadata": {},
   "outputs": [],
   "source": [
    "times = []\n",
    "for time in np.arange(0.1,1,0.01):\n",
    "    times.append(time)\n",
    "for time in np.arange(1,10,0.1):\n",
    "    times.append(time)\n",
    "for time in np.arange(10,100,1):\n",
    "    times.append(time)\n",
    "for time in np.arange(100,1000,10):\n",
    "    times.append(time)\n",
    "for time in np.arange(1000,10000,100):\n",
    "    times.append(time)\n",
    "for time in np.arange(10000,100000,1000):\n",
    "    times.append(time)\n",
    "for time in np.arange(100000,1000000,10000):\n",
    "    times.append(time)\n",
    "# # For concentration profile evolutoin\n",
    "# for time in np.arange(1000000,10000000,100000):\n",
    "#     times.append(time)\n",
    "# For storage plots\n",
    "for time in np.arange(1000000,5000000,10000):\n",
    "    times.append(time)\n",
    "\n",
    "times = np.array(times)"
   ]
  },
  {
   "cell_type": "code",
   "execution_count": 4,
   "metadata": {},
   "outputs": [
    {
     "name": "stderr",
     "output_type": "stream",
     "text": [
      "libGL error: MESA-LOADER: failed to open iris: /usr/lib/dri/iris_dri.so: cannot open shared object file: No such file or directory (search paths /usr/lib/x86_64-linux-gnu/dri:\\$${ORIGIN}/dri:/usr/lib/dri, suffix _dri)\n",
      "libGL error: failed to load driver: iris\n",
      "libGL error: MESA-LOADER: failed to open swrast: /usr/lib/dri/swrast_dri.so: cannot open shared object file: No such file or directory (search paths /usr/lib/x86_64-linux-gnu/dri:\\$${ORIGIN}/dri:/usr/lib/dri, suffix _dri)\n",
      "libGL error: failed to load driver: swrast\n"
     ]
    }
   ],
   "source": [
    "# Let's plot the profiles we use \n",
    "fig, ax = plt.subplots(1,1,figsize=(8,6))\n",
    "ax.plot(z_array, v_short, label=\"F\")\n",
    "ax.plot(z_array, d_short, label=\"D\")\n",
    "ax.set_xlabel(\"z (A)\")\n",
    "ax.set_ylabel(\"F (kT)\")\n",
    "ax.legend()\n",
    "fig.tight_layout()\n",
    "fig.show()"
   ]
  },
  {
   "cell_type": "code",
   "execution_count": 5,
   "metadata": {},
   "outputs": [
    {
     "name": "stdout",
     "output_type": "stream",
     "text": [
      "||R - Q.D.Q^-1||_max = 1.6239787292704477e-13\n"
     ]
    }
   ],
   "source": [
    "# We create a five-stack, and charge the stack from the left.\n",
    "mult = 5\n",
    "vmulti, dmulti, dradmulti, edgesmulti =\\\n",
    "    extend_profile(v_short[1:-1], d_short[1:-1],\n",
    "                   drad_short[1:-1], edges_short[1:-1],\n",
    "                   mult)\n",
    "extraF = [(v_short[-1]+v_short[0])*0.5 for i in range(1)]\n",
    "extraD = [d_short[-1] for i in range(1)]\n",
    "extraDrad = [drad_short[-1] for i in range(1)]\n",
    "vmult = np.array(extraF + vmulti.tolist() + extraF)\n",
    "dmult = np.array(extraD + dmulti.tolist() + extraD)\n",
    "dradmult = np.array(extraDrad + dradmulti.tolist() + extraDrad)\n",
    "R = get_rate_matrix(vmult, np.log(dmult/dz**2))\n",
    "Diag,Q,Qinv = diagonalize_rate_matrix(R)\n",
    "evals, evecs = get_eigenrates(R)\n",
    "S_inf = np.sum(evecs[1:-1,-2]/evecs[0,-2])*dz\n",
    "inf_prof = evecs[:,-2]/evecs[0,-2]\n",
    "profiles = []\n",
    "for i,time in enumerate(times):\n",
    "    profile = propagate_with_diagonal(time,Diag,Q,Qinv)\n",
    "    profiles.append(profile)\n",
    "profiles = np.array(profiles)\n",
    "np.save(\"onlywaterLR_POPConly_mult\"+str(mult)+\"_profiles.npy\",np.array(profiles))\n",
    "np.save(\"onlywaterLR_POPConly_mult\"+str(mult)+\"_times.npy\",np.array(times))\n",
    "np.save(\"onlywaterLR_POPConly_mult\"+str(mult)+\"_R.npy\",R)"
   ]
  },
  {
   "cell_type": "code",
   "execution_count": null,
   "metadata": {},
   "outputs": [
    {
     "name": "stdout",
     "output_type": "stream",
     "text": [
      "tau =  325896.23447586305\n"
     ]
    }
   ],
   "source": [
    "tau = evals[-3]**(-1)*-1\n",
    "print(\"tau = \",tau)"
   ]
  },
  {
   "cell_type": "code",
   "execution_count": null,
   "metadata": {},
   "outputs": [
    {
     "name": "stdout",
     "output_type": "stream",
     "text": [
      "colors range from:  0.0  to  1.0\n"
     ]
    },
    {
     "name": "stderr",
     "output_type": "stream",
     "text": [
      "/home/wouter/anaconda/envs/openmm/lib/python3.7/site-packages/ipykernel_launcher.py:31: UserWarning: FixedFormatter should only be used together with FixedLocator\n",
      "/home/wouter/anaconda/envs/openmm/lib/python3.7/site-packages/ipykernel_launcher.py:38: UserWarning: This figure includes Axes that are not compatible with tight_layout, so results might be incorrect.\n"
     ]
    }
   ],
   "source": [
    "# We plot the concentration profile propagation\n",
    "mtimes = times\n",
    "colmap = cm.get_cmap(\"tab20c_r\")\n",
    "\n",
    "t0 = mtimes[0]\n",
    "t1 = mtimes[-1]\n",
    "\n",
    "L = np.log(t1)-np.log(t0)\n",
    "t_shift = -1. * np.log(t0)\n",
    "\n",
    "colors = (np.log(mtimes)+t_shift)/L\n",
    "print(\"colors range from: \",colors[0], \" to \", colors[-1])\n",
    "\n",
    "fig,ax=plt.subplots()\n",
    "for i, prof in enumerate(profiles):\n",
    "    if i == 0:\n",
    "        pass\n",
    "    elif i >= len(mtimes)-1:\n",
    "        pass\n",
    "    else:\n",
    "        ax.plot([j*dz for j in range(len(prof))],prof,color=colmap(colors[i]))\n",
    "ax.plot([j*dz for j in range(len(prof))],inf_prof,color=\"k\",lw=2)\n",
    "\n",
    "ax.set_xlabel(r\"$z$ [$\\mathrm{\\AA}$]\")\n",
    "ax.set_ylabel(r\"$c/c_L$\", fontsize=25)\n",
    "\n",
    "inaxes = inset_axes(ax,width=\"5%\",height=\"70%\",loc=1,bbox_to_anchor=(-0.0001,-0.10,1,1),bbox_transform=ax.transAxes,borderpad=0)\n",
    "inaxes.imshow(np.vstack((colors,colors)).T, cmap=colmap, aspect = 0.04)\n",
    "tenfold_ids = [90*i for i in range(int(len(times)/90+1))]\n",
    "ticktimes = [0.1*10**i for i in range(len(tenfold_ids))]\n",
    "inaxes.set_yticklabels([\"{:.0e}\".format(tick/1000) for tick in ticktimes], fontsize=15)\n",
    "inaxes.set_yticks(tenfold_ids)\n",
    "inaxes.set_xticks([])\n",
    "#inaxes.set_title(r\"time $t$ [ns]\"+\"\\n\",fontsize=20,loc='right')\n",
    "# add a title box manually \n",
    "inaxes.text(-10, 0.95, r\"time $t$ [ns]\", fontsize=20, transform=inaxes.transAxes,\n",
    "        verticalalignment='bottom', horizontalalignment='center')\n",
    "fig.tight_layout()\n",
    "fig.show()\n",
    "#fig.savefig(\"propagation-5-stack.pdf\")"
   ]
  },
  {
   "cell_type": "code",
   "execution_count": 6,
   "metadata": {},
   "outputs": [
    {
     "name": "stdout",
     "output_type": "stream",
     "text": [
      "Resis =  383.2219879609047\n",
      "Perm =  0.0026094536102193003\n",
      "SfromF =  325.58738958637207\n"
     ]
    }
   ],
   "source": [
    "# Now we create the ladder network for the five-stack.\n",
    "aveD = np.array([(d_short[0]+d_short[-1])/2.] + ((d_short[1:]+d_short[:-1])/2.).tolist())\n",
    "v_shortref = v_short[0]\n",
    "part = np.exp(-(v_short-v_shortref))    # no units, partition function, not normalized\n",
    "dRdx = 1./(part*aveD)         # permeation resistance per unit length, unit ps/A^2\n",
    "Resis = np.sum(dRdx[1:-1])*dz  # resistance to permeability, unit ps/A\n",
    "# integrate from x=-25.5=edges[st] to x=25.5=edges[end]\n",
    "Perm = 1./Resis                      # permeability, unit A/ps\n",
    "conc = np.exp(-v_short+v_short[0])\n",
    "SfromF = np.sum(conc[1:-1])*dz\n",
    "# We print the variables \n",
    "print(\"Resis = \",Resis)\n",
    "print(\"Perm = \",Perm)\n",
    "print(\"SfromF = \",SfromF)"
   ]
  },
  {
   "cell_type": "code",
   "execution_count": 7,
   "metadata": {},
   "outputs": [],
   "source": [
    "# We solve the ladder network using the analytical cauer solution\n",
    "C = SfromF\n",
    "R = Resis\n",
    "RCdiv2 = R*C/2  # This is the prefactor for analytical eigenvalues for cauer\n",
    "\n",
    "# RC-ladder-lists\n",
    "states_RC = []\n",
    "\n",
    "eva_RC, P_RC = get_eigen_from_model(5, RC=RCdiv2)\n",
    "D_RC = np.diag(eva_RC)\n",
    "V_RC = get_sources()\n",
    "B_RC = get_Bn(5, RC=RCdiv2)\n",
    "\n",
    "# Get the voltages over the states\n",
    "for t in times:\n",
    "    states_RC.append(get_states_at_t(B_RC, P_RC, D_RC, V_RC, t))\n",
    "states_RC = np.array(states_RC)\n",
    "\n",
    "# Also getting the steady state solution for this \n",
    "# set-up (i.e. for these input sources)\n",
    "ss_RC = get_steady_state(B_RC,P_RC,D_RC,V_RC)"
   ]
  },
  {
   "cell_type": "code",
   "execution_count": 8,
   "metadata": {},
   "outputs": [],
   "source": [
    "# Now we will compare the analytical solution with the discretized Smoluchowski\n",
    "\n",
    "# A) Smoluchwoski\n",
    "# A1) we have to sum the concentrations over the membranes \n",
    "len_mem = len(v_short)\n",
    "len_pmem = len_mem -2\n",
    "M = 5  # number of membranes in bilayer\n",
    "memS = [[] for i in range(M)]\n",
    "for prof in profiles:\n",
    "    for i in range(M):\n",
    "        memS[i].append(np.sum(prof[1+len_pmem*i:1+len_pmem*(i+1)]*dz))\n",
    "memS = np.array(memS)\n",
    "# A2) We get the steady state values\n",
    "R = np.load(\"onlywaterLR_POPConly_mult\"+str(M)+\"_R.npy\")\n",
    "evals, evecs = get_eigenrates(R)\n",
    "Sinf_mems = [np.sum(evecs[1+len_pmem*i:1+len_pmem*(i+1), -2]/evecs[0,-2]*dz)\n",
    "             for i in range(M)]\n",
    "\n",
    "# B) Cauer ladder network\n",
    "# B1) membrane storages are found by multioplying the voltage with the capacitance\n",
    "storages_RC = states_RC * C\n",
    "# B2) steady state values\n",
    "ss_storage_RC = ss_RC * C \n",
    "\n",
    "# We now plot the results\n",
    "fig,ax=plt.subplots()\n",
    "ax.plot(times/1000000, memS[0]/Sinf_mems[0], '-o', c=\"k\", ms=6, label=\"ref\")\n",
    "for i in range(M):\n",
    "    ax.plot(times/1000000, memS[i]/Sinf_mems[i], '-o', c=\"k\", ms=6)\n",
    "    ax.plot(times/1000000, storages_RC[:,i]/ss_storage_RC[i], '-x', ms=5, label=r\"$i=$\"+str(i+1))\n",
    "# make a legend title\n",
    "ax.legend(fontsize=20) #, title=r\"$\\frac{S_i(t)}{S_i(t\\rightarrow{}\\infty)}$\", title_fontsize=30)\n",
    "ax.set_xlim(0, 2.1)\n",
    "ax.set_xlabel(r\"time $t$ [$\\mu$s]\")\n",
    "ax.set_ylabel(r\"$\\dfrac{S_i(t)}{S_i(t\\rightarrow{}\\infty)}$\", fontsize=25)\n",
    "fig.tight_layout()\n",
    "fig.show()\n",
    "#fig.savefig(\"storage-5-stack.pdf\")\n"
   ]
  },
  {
   "cell_type": "code",
   "execution_count": 10,
   "metadata": {},
   "outputs": [],
   "source": [
    "np.save(\"memS_5stack.npy\", memS)\n",
    "np.save(\"times.npy\", times)"
   ]
  },
  {
   "cell_type": "code",
   "execution_count": 150,
   "metadata": {},
   "outputs": [],
   "source": [
    "# Now we will look at the storage and time-constant vs myelin stack size M"
   ]
  },
  {
   "cell_type": "code",
   "execution_count": 200,
   "metadata": {},
   "outputs": [],
   "source": [
    "largest_timeconstants = []\n",
    "equilibrium_storages = []\n",
    "multlist = np.arange(1,201)\n",
    "for M in multlist:\n",
    "    eva_RC, P_RC = get_eigen_from_model(M, RC=RCdiv2)\n",
    "    D_RC = np.diag(eva_RC)\n",
    "    V_RC = get_sources(Vl = 1., Vr = 1.)\n",
    "    B_RC = get_Bn(M, RC=RCdiv2)\n",
    "    ss_RC = get_steady_state(B_RC,P_RC,D_RC,V_RC)\n",
    "    largest_timeconstants.append(eva_RC[-1]**(-1)*(-1))\n",
    "    equilibrium_storages.append(np.sum([el*C for el in ss_RC]))\n",
    "\n",
    "# We also get an analytical solution to the largest timevalue...\n",
    "analytical_timeconstants = [-1.*RCdiv2/(np.cos(np.pi/k)-1) for k in multlist]\n",
    "\n",
    "largest_timeconstants = np.array(largest_timeconstants)\n",
    "equilibrium_storages = np.array(equilibrium_storages)\n",
    "analytical_timeconstants = np.array(analytical_timeconstants)"
   ]
  },
  {
   "cell_type": "code",
   "execution_count": 234,
   "metadata": {},
   "outputs": [],
   "source": [
    "fig, ax = plt.subplots()\n",
    "ax.plot(multlist, analytical_timeconstants*10**(-6), '-', c=\"r\", lw=8,\n",
    "        label = r\"$RC\\cdot\\left(2-2\\cos{\\left(\\frac{\\pi}{M}\\right)}\\right)^{-1}}$\")\n",
    "ax.plot(multlist, largest_timeconstants*10**(-6), 'x', c=\"k\", ms=5,\n",
    "        label = r\"$\\tau_{\\mathrm{max}}(M)$\")\n",
    "ax.set_xlabel(r\"number of membranes $M$\")\n",
    "ax.set_ylabel(r\"$\\tau_{\\mathrm{max}}$ [$\\mu$s]\")\n",
    "ax.legend(fontsize=20)\n",
    "fig.tight_layout()\n",
    "fig.show()\n",
    "fig.savefig(\"largest-timeconstant-vs-M.pdf\")"
   ]
  },
  {
   "cell_type": "code",
   "execution_count": 233,
   "metadata": {},
   "outputs": [],
   "source": [
    "fig, ax = plt.subplots()\n",
    "ax.plot(multlist, [k*C for k in multlist], '-', c=\"r\", lw=8,\n",
    "        label = r\"$M\\cdot C$\")\n",
    "ax.plot(multlist, equilibrium_storages, 'x', c=\"k\", ms=5,\n",
    "        label = r\"$S(M)$\")\n",
    "ax.set_xlabel(r\"number of membranes $M$\")\n",
    "ax.set_ylabel(r\"$S$ [mol/m$^2$]\")\n",
    "ax.legend(fontsize=20)\n",
    "# scientific notation in y-axis\n",
    "ax.ticklabel_format(axis='y', style='sci', scilimits=(0,0))\n",
    "fig.tight_layout()\n",
    "fig.show()\n",
    "fig.savefig(\"equilibrium-storage-vs-M.pdf\")"
   ]
  },
  {
   "cell_type": "code",
   "execution_count": null,
   "metadata": {},
   "outputs": [],
   "source": []
  }
 ],
 "metadata": {
  "kernelspec": {
   "display_name": "openmm",
   "language": "python",
   "name": "python3"
  },
  "language_info": {
   "codemirror_mode": {
    "name": "ipython",
    "version": 3
   },
   "file_extension": ".py",
   "mimetype": "text/x-python",
   "name": "python",
   "nbconvert_exporter": "python",
   "pygments_lexer": "ipython3",
   "version": "3.7.8"
  },
  "orig_nbformat": 4,
  "vscode": {
   "interpreter": {
    "hash": "dc4aff6633a789961b87bdad1c4b450d033ccbf404e27f6971b4f692b946d53a"
   }
  }
 },
 "nbformat": 4,
 "nbformat_minor": 2
}
